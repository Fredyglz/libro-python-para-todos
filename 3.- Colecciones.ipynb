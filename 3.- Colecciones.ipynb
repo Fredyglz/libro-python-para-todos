{
 "cells": [
  {
   "cell_type": "code",
   "execution_count": 1,
   "metadata": {},
   "outputs": [],
   "source": [
    "# Jose Alfredo Romero Gonzalez\n",
    "# 02/01/2020 20:12\n",
    "# fredyglz.fr@gmail.com\n",
    "# python 3.7.3"
   ]
  },
  {
   "cell_type": "code",
   "execution_count": 2,
   "metadata": {},
   "outputs": [
    {
     "name": "stdout",
     "output_type": "stream",
     "text": [
      "LISTAS\n",
      "[22, True, 'una lista', [1, 2]]\n"
     ]
    }
   ],
   "source": [
    "'''LISTAS'''\n",
    "print(\"LISTAS\")\n",
    "l = [22, True, \"una lista\", [1, 2]]\n",
    "print(l)"
   ]
  },
  {
   "cell_type": "code",
   "execution_count": 3,
   "metadata": {},
   "outputs": [
    {
     "name": "stdout",
     "output_type": "stream",
     "text": [
      "[11, False]\n",
      "11\n"
     ]
    }
   ],
   "source": [
    "l = [11, False]\n",
    "mi_var = l[0] # mi_var vale 11\n",
    "print(l)\n",
    "print(mi_var)"
   ]
  },
  {
   "cell_type": "code",
   "execution_count": 4,
   "metadata": {},
   "outputs": [
    {
     "name": "stdout",
     "output_type": "stream",
     "text": [
      "['una lista', [1, 2]]\n",
      "1\n"
     ]
    }
   ],
   "source": [
    "l = [\"una lista\", [1,2]]\n",
    "mi_var = l[1][0] # mi_var vale 1\n",
    "print(l)\n",
    "print(mi_var)"
   ]
  },
  {
   "cell_type": "code",
   "execution_count": 5,
   "metadata": {},
   "outputs": [
    {
     "name": "stdout",
     "output_type": "stream",
     "text": [
      "[22, True]\n",
      "[99, True]\n"
     ]
    }
   ],
   "source": [
    "l = [22, True]\n",
    "print(l)\n",
    "l[0] = 99 # con esto l valdra [99, True]\n",
    "print(l)"
   ]
  },
  {
   "cell_type": "code",
   "execution_count": 6,
   "metadata": {},
   "outputs": [
    {
     "name": "stdout",
     "output_type": "stream",
     "text": [
      "[0, 1, 2, 3, 4, 5, 6, 7, 8, 9]\n",
      "0\n",
      "9\n",
      "9\n",
      "0\n"
     ]
    }
   ],
   "source": [
    "l = [0,1,2,3,4,5,6,7,8,9]\n",
    "print(l)\n",
    "print(l[0])\n",
    "print(l[9])\n",
    "print(l[-1])\n",
    "print(l[-10])"
   ]
  },
  {
   "cell_type": "code",
   "execution_count": 7,
   "metadata": {},
   "outputs": [
    {
     "name": "stdout",
     "output_type": "stream",
     "text": [
      "[0, 1, 2, 3, 4, 5, 6, 7, 8, 9]\n",
      "[0, 1]\n",
      "[0, 2]\n"
     ]
    }
   ],
   "source": [
    "l = [0, 1, 2, 3, 4, 5, 6, 7, 8, 9]\n",
    "print(l)\n",
    "mi_var = l[0:2] # mi_var vale [0,1]\n",
    "print(mi_var)\n",
    "mi_var = l[0:4:2] # mi_var vale [0,2]\n",
    "print(mi_var)"
   ]
  },
  {
   "cell_type": "code",
   "execution_count": 8,
   "metadata": {},
   "outputs": [
    {
     "name": "stdout",
     "output_type": "stream",
     "text": [
      "[True, 'una lista']\n",
      "[99, True]\n",
      "[99, True, 'una lista']\n",
      "[99, 'una lista']\n"
     ]
    }
   ],
   "source": [
    "l = [99, True, \"una lista\"]\n",
    "mi_var = l[1:] # mi_var vale [True, \"una lista\"]\n",
    "print(mi_var)\n",
    "mi_var = l[:2] # mi_var vale [99, True]\n",
    "print(mi_var)\n",
    "mi_var = l[:] # mi_var vale [99, True, \"una lista\"]\n",
    "print(mi_var)\n",
    "mi_var = l[::2] # mi_var vale [99, \"una lista\"]\n",
    "print(mi_var)"
   ]
  },
  {
   "cell_type": "code",
   "execution_count": 10,
   "metadata": {},
   "outputs": [
    {
     "name": "stdout",
     "output_type": "stream",
     "text": [
      "[99, True, 'una lista', [1, 2]]\n",
      "[0, 1, 'una lista', [1, 2]]\n",
      "[False, 'una lista', [1, 2]]\n"
     ]
    }
   ],
   "source": [
    "l = [99, True, \"una lista\", [1,2]]\n",
    "print(l)\n",
    "l[0:2] = [0,1] # l vale [0, 1, \"una lista\", [1, 2]]\n",
    "print(l)\n",
    "l[0:2] = [False] # l vale [False, \"una lista\", [1, 2]]\n",
    "print(l)"
   ]
  },
  {
   "cell_type": "code",
   "execution_count": 11,
   "metadata": {},
   "outputs": [
    {
     "name": "stdout",
     "output_type": "stream",
     "text": [
      "TUPLAS\n",
      "(1, 2, True, 'python')\n"
     ]
    }
   ],
   "source": [
    "'''Tuplas'''\n",
    "print(\"TUPLAS\")\n",
    "t = (1, 2, True, \"python\")\n",
    "print(t)"
   ]
  },
  {
   "cell_type": "code",
   "execution_count": 12,
   "metadata": {},
   "outputs": [
    {
     "name": "stdout",
     "output_type": "stream",
     "text": [
      "(1, 2, 3)\n",
      "<class 'tuple'>\n"
     ]
    }
   ],
   "source": [
    "t = 1, 2, 3\n",
    "print(t)\n",
    "print(type(t))"
   ]
  },
  {
   "cell_type": "code",
   "execution_count": 13,
   "metadata": {},
   "outputs": [
    {
     "name": "stdout",
     "output_type": "stream",
     "text": [
      "1\n",
      "<class 'int'>\n",
      "(1,)\n",
      "<class 'tuple'>\n"
     ]
    }
   ],
   "source": [
    "t = (1)\n",
    "print(t)\n",
    "print(type(t))\n",
    "t = (1,)\n",
    "print(t)\n",
    "print(type(t))"
   ]
  },
  {
   "cell_type": "code",
   "execution_count": 14,
   "metadata": {},
   "outputs": [
    {
     "name": "stdout",
     "output_type": "stream",
     "text": [
      "(1, 2, 3)\n",
      "1\n",
      "(1, 2)\n"
     ]
    }
   ],
   "source": [
    "t = 1, 2, 3\n",
    "print(t)\n",
    "mi_var = t[0] # mi_var es 1\n",
    "print(mi_var)\n",
    "mi_var = t[0:2] # mi_var es (1, 2)\n",
    "print(mi_var)"
   ]
  },
  {
   "cell_type": "code",
   "execution_count": 15,
   "metadata": {},
   "outputs": [
    {
     "name": "stdout",
     "output_type": "stream",
     "text": [
      "DICCIONARIOS\n",
      "{'Love Actually': 'Richard Curtis', 'Kill Bill': 'Tarantino', 'Amelie': 'Jean-Pierre Jeunet'}\n"
     ]
    }
   ],
   "source": [
    "'''Diccionarios'''\n",
    "print(\"DICCIONARIOS\")\n",
    "d = {\"Love Actually\": \"Richard Curtis\",\n",
    "     \"Kill Bill\": \"Tarantino\",\n",
    "     \"Amelie\": \"Jean-Pierre Jeunet\"}\n",
    "print(d)"
   ]
  },
  {
   "cell_type": "code",
   "execution_count": 16,
   "metadata": {},
   "outputs": [
    {
     "name": "stdout",
     "output_type": "stream",
     "text": [
      "Richard Curtis\n",
      "Tarantino\n",
      "Quentin Tarantino\n"
     ]
    }
   ],
   "source": [
    "print(d[\"Love Actually\"])\n",
    "print(d[\"Kill Bill\"])\n",
    "d[\"Kill Bill\"] = \"Quentin Tarantino\"\n",
    "print(d[\"Kill Bill\"])"
   ]
  },
  {
   "cell_type": "code",
   "execution_count": null,
   "metadata": {},
   "outputs": [],
   "source": []
  }
 ],
 "metadata": {
  "kernelspec": {
   "display_name": "Python 3",
   "language": "python",
   "name": "python3"
  },
  "language_info": {
   "codemirror_mode": {
    "name": "ipython",
    "version": 3
   },
   "file_extension": ".py",
   "mimetype": "text/x-python",
   "name": "python",
   "nbconvert_exporter": "python",
   "pygments_lexer": "ipython3",
   "version": "3.7.3"
  }
 },
 "nbformat": 4,
 "nbformat_minor": 2
}
