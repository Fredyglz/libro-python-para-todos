{
 "cells": [
  {
   "cell_type": "code",
   "execution_count": 10,
   "metadata": {},
   "outputs": [],
   "source": [
    "# Jose Alfredo Romero Gonzalez\n",
    "# 07/01/2020 02:28\n",
    "# fredyglz.fr@gmail.com\n",
    "# python 3.7.3"
   ]
  },
  {
   "cell_type": "markdown",
   "metadata": {},
   "source": [
    "Sentencias condicionales"
   ]
  },
  {
   "cell_type": "markdown",
   "metadata": {},
   "source": [
    "<h5>if</h5>"
   ]
  },
  {
   "cell_type": "code",
   "execution_count": 2,
   "metadata": {},
   "outputs": [
    {
     "name": "stdout",
     "output_type": "stream",
     "text": [
      "Tienes un buen gusto!\n",
      "Gracias\n"
     ]
    }
   ],
   "source": [
    "fav = \"mundogeek.net\"\n",
    "# si (if) fav es igual a \"mundogeek.net\"\n",
    "if fav == \"mundogeek.net\":\n",
    "    print(\"Tienes un buen gusto!\")\n",
    "    print(\"Gracias\")"
   ]
  },
  {
   "cell_type": "code",
   "execution_count": 5,
   "metadata": {},
   "outputs": [
    {
     "name": "stdout",
     "output_type": "stream",
     "text": [
      "Tienes un buen gusto!\n",
      "Gracias\n"
     ]
    }
   ],
   "source": [
    "if fav == \"mundogeek.net\":\n",
    "    print(\"Tienes un buen gusto!\")\n",
    "print(\"Gracias\")"
   ]
  },
  {
   "cell_type": "markdown",
   "metadata": {},
   "source": [
    "<h5>if... else</h5>"
   ]
  },
  {
   "cell_type": "code",
   "execution_count": 4,
   "metadata": {},
   "outputs": [
    {
     "name": "stdout",
     "output_type": "stream",
     "text": [
      "Tienes un buen gusto!\n",
      "Gracias\n"
     ]
    }
   ],
   "source": [
    "if fav == \"mundogeek.net\":\n",
    "    print(\"Tienes un buen gusto!\")\n",
    "    print(\"Gracias\")\n",
    "\n",
    "if fav != \"mundogeek.net\":\n",
    "    print(\"Vaya, que lastima\")"
   ]
  },
  {
   "cell_type": "code",
   "execution_count": 8,
   "metadata": {},
   "outputs": [
    {
     "name": "stdout",
     "output_type": "stream",
     "text": [
      "Tienes buen gusto!\n",
      "Gracias\n"
     ]
    }
   ],
   "source": [
    "if fav == \"mundogeek.net\":\n",
    "    print(\"Tienes buen gusto!\")\n",
    "    print(\"Gracias\")\n",
    "else:\n",
    "    print(\"Vaya, que lastima\")"
   ]
  },
  {
   "cell_type": "markdown",
   "metadata": {},
   "source": [
    "<h5>if... elif... elif... else</h5>"
   ]
  },
  {
   "cell_type": "code",
   "execution_count": 13,
   "metadata": {},
   "outputs": [
    {
     "name": "stdout",
     "output_type": "stream",
     "text": [
      "Cero\n"
     ]
    }
   ],
   "source": [
    "numero = 0\n",
    "if numero < 0:\n",
    "    print(\"Negativo\")\n",
    "elif numero > 0:\n",
    "    print(\"Positivo\")\n",
    "else:\n",
    "    print(\"Cero\")"
   ]
  },
  {
   "cell_type": "markdown",
   "metadata": {},
   "source": [
    "<h5>A if C else B</h5>"
   ]
  },
  {
   "cell_type": "code",
   "execution_count": 15,
   "metadata": {},
   "outputs": [
    {
     "name": "stdout",
     "output_type": "stream",
     "text": [
      "impar\n"
     ]
    }
   ],
   "source": [
    "num = 1\n",
    "var = \"par\" if (num % 2 == 0) else \"impar\"\n",
    "print(var)"
   ]
  },
  {
   "cell_type": "markdown",
   "metadata": {},
   "source": [
    "Bucles"
   ]
  },
  {
   "cell_type": "markdown",
   "metadata": {},
   "source": [
    "<h5>while</h5>"
   ]
  },
  {
   "cell_type": "code",
   "execution_count": 16,
   "metadata": {},
   "outputs": [
    {
     "name": "stdout",
     "output_type": "stream",
     "text": [
      "Felicidades, tienes 1\n",
      "Felicidades, tienes 2\n",
      "Felicidades, tienes 3\n",
      "Felicidades, tienes 4\n",
      "Felicidades, tienes 5\n",
      "Felicidades, tienes 6\n",
      "Felicidades, tienes 7\n",
      "Felicidades, tienes 8\n",
      "Felicidades, tienes 9\n",
      "Felicidades, tienes 10\n",
      "Felicidades, tienes 11\n",
      "Felicidades, tienes 12\n",
      "Felicidades, tienes 13\n",
      "Felicidades, tienes 14\n",
      "Felicidades, tienes 15\n",
      "Felicidades, tienes 16\n",
      "Felicidades, tienes 17\n",
      "Felicidades, tienes 18\n"
     ]
    }
   ],
   "source": [
    "edad = 0\n",
    "while edad < 18:\n",
    "    edad = edad + 1\n",
    "    print(\"Felicidades, tienes \" + str(edad))"
   ]
  },
  {
   "cell_type": "code",
   "execution_count": 18,
   "metadata": {},
   "outputs": [
    {
     "name": "stdout",
     "output_type": "stream",
     "text": [
      "> Hola\n",
      "Hola\n",
      "> como estas?\n",
      "como estas?\n",
      "> me estas arremedando?\n",
      "me estas arremedando?\n",
      "> adios\n"
     ]
    }
   ],
   "source": [
    "while True:\n",
    "    entrada = input(\"> \")\n",
    "    if entrada == \"adios\":\n",
    "        break\n",
    "    else:\n",
    "        print(entrada)"
   ]
  },
  {
   "cell_type": "code",
   "execution_count": 19,
   "metadata": {},
   "outputs": [
    {
     "name": "stdout",
     "output_type": "stream",
     "text": [
      "> Hola\n",
      "Hola\n",
      "> como estas?\n",
      "como estas?\n",
      "> adios\n"
     ]
    }
   ],
   "source": [
    "salir = False\n",
    "while not salir:\n",
    "    entrada = input(\"> \")\n",
    "    if entrada == \"adios\":\n",
    "        salir = True\n",
    "    else:\n",
    "        print(entrada)"
   ]
  },
  {
   "cell_type": "code",
   "execution_count": 22,
   "metadata": {},
   "outputs": [
    {
     "name": "stdout",
     "output_type": "stream",
     "text": [
      "Felicidades, tienes 1\n",
      "Felicidades, tienes 3\n",
      "Felicidades, tienes 5\n",
      "Felicidades, tienes 7\n",
      "Felicidades, tienes 9\n",
      "Felicidades, tienes 11\n",
      "Felicidades, tienes 13\n",
      "Felicidades, tienes 15\n",
      "Felicidades, tienes 17\n"
     ]
    }
   ],
   "source": [
    "edad = 0\n",
    "while edad < 18:\n",
    "    edad = edad + 1\n",
    "    if edad % 2 == 0:\n",
    "        continue\n",
    "    print(\"Felicidades, tienes \" + str(edad))"
   ]
  },
  {
   "cell_type": "markdown",
   "metadata": {},
   "source": [
    "<h5>for... in</h5>"
   ]
  },
  {
   "cell_type": "code",
   "execution_count": 24,
   "metadata": {},
   "outputs": [
    {
     "name": "stdout",
     "output_type": "stream",
     "text": [
      "uno\n",
      "dos\n",
      "tres\n"
     ]
    }
   ],
   "source": [
    "secuencia = [\"uno\", \"dos\", \"tres\"]\n",
    "for elemento in secuencia:\n",
    "    print(elemento)"
   ]
  },
  {
   "cell_type": "code",
   "execution_count": null,
   "metadata": {},
   "outputs": [],
   "source": []
  }
 ],
 "metadata": {
  "kernelspec": {
   "display_name": "Python 3",
   "language": "python",
   "name": "python3"
  },
  "language_info": {
   "codemirror_mode": {
    "name": "ipython",
    "version": 3
   },
   "file_extension": ".py",
   "mimetype": "text/x-python",
   "name": "python",
   "nbconvert_exporter": "python",
   "pygments_lexer": "ipython3",
   "version": "3.7.3"
  }
 },
 "nbformat": 4,
 "nbformat_minor": 2
}
