{
 "cells": [
  {
   "cell_type": "code",
   "execution_count": 1,
   "metadata": {},
   "outputs": [],
   "source": [
    "# Jose Alfredo Romero Gonzalez\n",
    "# 09/01/2020 23:47\n",
    "# fredyglz.fr@gmail.com\n",
    "# python 3.7.3"
   ]
  },
  {
   "cell_type": "code",
   "execution_count": 4,
   "metadata": {},
   "outputs": [
    {
     "name": "stdout",
     "output_type": "stream",
     "text": [
      "hola\n",
      "2\n"
     ]
    }
   ],
   "source": [
    "def mi_funcion(param1, param2):\n",
    "    \"\"\"Esta funcion imprime los dos valores pasados como parametros\"\"\"\n",
    "    print (param1)\n",
    "    print (param2)\n",
    "\n",
    "mi_funcion(\"hola\", 2)"
   ]
  },
  {
   "cell_type": "code",
   "execution_count": 5,
   "metadata": {},
   "outputs": [
    {
     "name": "stdout",
     "output_type": "stream",
     "text": [
      "2\n",
      "hola\n"
     ]
    }
   ],
   "source": [
    "mi_funcion(param1 = 2, param2 = \"hola\")"
   ]
  },
  {
   "cell_type": "code",
   "execution_count": 9,
   "metadata": {},
   "outputs": [
    {
     "name": "stdout",
     "output_type": "stream",
     "text": [
      "holaholaholahola\n"
     ]
    }
   ],
   "source": [
    "def imprimir(texto, veces = 1):\n",
    "    print (veces*texto)\n",
    "    \n",
    "imprimir(\"hola\",4)"
   ]
  },
  {
   "cell_type": "code",
   "execution_count": 11,
   "metadata": {},
   "outputs": [
    {
     "name": "stdout",
     "output_type": "stream",
     "text": [
      "\n",
      "\n",
      "3\n",
      "\n",
      "\n",
      "3\n",
      "4\n"
     ]
    }
   ],
   "source": [
    "def varios(param1, param2, *otros):\n",
    "    for val in otros:\n",
    "        print(val)\n",
    "\n",
    "varios(1, 2)\n",
    "print(\"\\n\")\n",
    "varios(1, 2, 3)\n",
    "print(\"\\n\")\n",
    "varios(1, 2, 3, 4)"
   ]
  },
  {
   "cell_type": "code",
   "execution_count": 12,
   "metadata": {},
   "outputs": [
    {
     "name": "stdout",
     "output_type": "stream",
     "text": [
      "25 [22, 23]\n",
      "22 [22, 23]\n"
     ]
    }
   ],
   "source": [
    "def f(x, y):\n",
    "    x = x + 3\n",
    "    y.append(23)\n",
    "    print(x, y)\n",
    "x  = 22\n",
    "y = [22]\n",
    "f(x, y)\n",
    "print(x, y)\n"
   ]
  },
  {
   "cell_type": "code",
   "execution_count": 13,
   "metadata": {},
   "outputs": [
    {
     "name": "stdout",
     "output_type": "stream",
     "text": [
      "5\n"
     ]
    }
   ],
   "source": [
    "def sumar(x, y):\n",
    "    return x + y\n",
    "\n",
    "print(sumar(3, 2))"
   ]
  },
  {
   "cell_type": "code",
   "execution_count": 15,
   "metadata": {},
   "outputs": [
    {
     "name": "stdout",
     "output_type": "stream",
     "text": [
      "2 4\n"
     ]
    }
   ],
   "source": [
    "def f(x, y):\n",
    "    return x * 2, y * 2\n",
    "a, b = f (1, 2)\n",
    "print(a, b)"
   ]
  },
  {
   "cell_type": "code",
   "execution_count": null,
   "metadata": {},
   "outputs": [],
   "source": []
  }
 ],
 "metadata": {
  "kernelspec": {
   "display_name": "Python 3",
   "language": "python",
   "name": "python3"
  },
  "language_info": {
   "codemirror_mode": {
    "name": "ipython",
    "version": 3
   },
   "file_extension": ".py",
   "mimetype": "text/x-python",
   "name": "python",
   "nbconvert_exporter": "python",
   "pygments_lexer": "ipython3",
   "version": "3.7.3"
  }
 },
 "nbformat": 4,
 "nbformat_minor": 2
}
