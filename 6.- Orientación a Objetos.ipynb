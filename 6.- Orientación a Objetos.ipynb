{
 "cells": [
  {
   "cell_type": "code",
   "execution_count": 1,
   "metadata": {},
   "outputs": [],
   "source": [
    "# Jose Alfredo Romero Gonzalez\n",
    "# 11/01/2020 02:50\n",
    "# fredyglz.fr@gmail.com\n",
    "# python 3.7.3"
   ]
  },
  {
   "cell_type": "markdown",
   "metadata": {},
   "source": [
    "Clases y objetos"
   ]
  },
  {
   "cell_type": "code",
   "execution_count": 8,
   "metadata": {},
   "outputs": [
    {
     "name": "stdout",
     "output_type": "stream",
     "text": [
      "Tenemos 3 litros\n",
      "3\n",
      "Arranca\n",
      "Quedan 2 litros\n",
      "Quedan 1 litros\n",
      "Quedan 0 litros\n",
      "No se mueve\n",
      "No arranca\n",
      "0\n"
     ]
    }
   ],
   "source": [
    "class Coche:\n",
    "    \"\"\"Abstraccion de los objetos coche.\"\"\"\n",
    "    def __init__(self, gasolina):\n",
    "        self.gasolina = gasolina\n",
    "        print(\"Tenemos\", gasolina, \"litros\")\n",
    "        \n",
    "    def arrancar(self):\n",
    "        if self.gasolina > 0:\n",
    "            print(\"Arranca\")\n",
    "        else:\n",
    "            print(\"No arranca\")\n",
    "            \n",
    "    def conducir(self):\n",
    "        if self.gasolina > 0:\n",
    "            self.gasolina -= 1\n",
    "            print(\"Quedan\", self.gasolina, \"litros\")\n",
    "        else:\n",
    "            print(\"No se mueve\")\n",
    "\n",
    "mercedez_benz = Coche(3)\n",
    "print(mercedez_benz.gasolina)\n",
    "mercedez_benz.arrancar()\n",
    "mercedez_benz.conducir()\n",
    "mercedez_benz.conducir()\n",
    "mercedez_benz.conducir()\n",
    "mercedez_benz.conducir()\n",
    "mercedez_benz.arrancar()\n",
    "print(mercedez_benz.gasolina)\n"
   ]
  },
  {
   "cell_type": "markdown",
   "metadata": {},
   "source": [
    "Herencia"
   ]
  },
  {
   "cell_type": "code",
   "execution_count": 15,
   "metadata": {},
   "outputs": [
    {
     "name": "stdout",
     "output_type": "stream",
     "text": [
      "Estamos tocando musica\n",
      "Estamos tocando musica\n",
      "Eso lo pagas tu\n",
      "Son 550 $\n",
      "\n",
      "\n",
      "Tiene 7 tambores\n",
      "Estamos tocando musica\n",
      "Estamos tocando musica\n",
      "Eso lo pagas tu\n",
      "Son 550 $\n"
     ]
    }
   ],
   "source": [
    "class Instrumento:\n",
    "    def __init__(self, precio):\n",
    "        self.precio = precio\n",
    "        \n",
    "    def tocar(self):\n",
    "        print(\"Estamos tocando musica\")\n",
    "        \n",
    "    def romper(self):\n",
    "        print(\"Eso lo pagas tu\")\n",
    "        print(\"Son\", self.precio, \"$\")\n",
    "\n",
    "class Bateria(Instrumento):\n",
    "    def __init__(self, tambores, precio):\n",
    "        Instrumento.__init__(self, precio)\n",
    "        self.tambores = tambores\n",
    "        print(\"Tiene\", self.tambores, \"tambores\")\n",
    "\n",
    "class Guitarra(Instrumento):\n",
    "    pass\n",
    "\n",
    "Perrona = Guitarra(550)\n",
    "Perrona.tocar()\n",
    "Perrona.tocar()\n",
    "Perrona.romper()\n",
    "\n",
    "print(\"\\n\")\n",
    "\n",
    "Perrona = Bateria(7, 550)\n",
    "Perrona.tocar()\n",
    "Perrona.tocar()\n",
    "Perrona.romper()\n"
   ]
  },
  {
   "cell_type": "markdown",
   "metadata": {},
   "source": [
    "Herencia múltiple"
   ]
  },
  {
   "cell_type": "code",
   "execution_count": 17,
   "metadata": {},
   "outputs": [
    {
     "name": "stdout",
     "output_type": "stream",
     "text": [
      "El animal anda\n"
     ]
    }
   ],
   "source": [
    "# En el caso de que alguna de las clases padre tuvieran métodos con el\n",
    "# mismo nombre y número de parámetros las clases sobreescribirían la\n",
    "# implementación de los métodos de las clases más a su derecha en la\n",
    "# definición.\n",
    "class Terrestre:\n",
    "    def desplazar(self):\n",
    "        print(\"El animal anda\")\n",
    "    \n",
    "class Acuatico:\n",
    "    def desplazar(self):\n",
    "        print(\"El animal nada\")\n",
    "\n",
    "class Cocodrilo(Terrestre, Acuatico):\n",
    "    pass\n",
    "\n",
    "c = Cocodrilo()\n",
    "c.desplazar()"
   ]
  },
  {
   "cell_type": "markdown",
   "metadata": {},
   "source": [
    "Encapsulamiento"
   ]
  },
  {
   "cell_type": "code",
   "execution_count": 24,
   "metadata": {},
   "outputs": [
    {
     "name": "stdout",
     "output_type": "stream",
     "text": [
      "Publico\n"
     ]
    },
    {
     "ename": "AttributeError",
     "evalue": "'Ejemplo' object has no attribute '__privado'",
     "output_type": "error",
     "traceback": [
      "\u001b[1;31m---------------------------------------------------------------------------\u001b[0m",
      "\u001b[1;31mAttributeError\u001b[0m                            Traceback (most recent call last)",
      "\u001b[1;32m<ipython-input-24-154cbacd0ae0>\u001b[0m in \u001b[0;36m<module>\u001b[1;34m\u001b[0m\n\u001b[0;32m      8\u001b[0m \u001b[0mej\u001b[0m \u001b[1;33m=\u001b[0m \u001b[0mEjemplo\u001b[0m\u001b[1;33m(\u001b[0m\u001b[1;33m)\u001b[0m\u001b[1;33m\u001b[0m\u001b[1;33m\u001b[0m\u001b[0m\n\u001b[0;32m      9\u001b[0m \u001b[0mej\u001b[0m\u001b[1;33m.\u001b[0m\u001b[0mpublico\u001b[0m\u001b[1;33m(\u001b[0m\u001b[1;33m)\u001b[0m\u001b[1;33m\u001b[0m\u001b[1;33m\u001b[0m\u001b[0m\n\u001b[1;32m---> 10\u001b[1;33m \u001b[0mej\u001b[0m\u001b[1;33m.\u001b[0m\u001b[0m__privado\u001b[0m\u001b[1;33m(\u001b[0m\u001b[1;33m)\u001b[0m\u001b[1;33m\u001b[0m\u001b[1;33m\u001b[0m\u001b[0m\n\u001b[0m",
      "\u001b[1;31mAttributeError\u001b[0m: 'Ejemplo' object has no attribute '__privado'"
     ]
    }
   ],
   "source": [
    "class Ejemplo:\n",
    "    def publico(self):\n",
    "        print(\"Publico\")\n",
    "    \n",
    "    def __privado(self):\n",
    "        print(\"Privado\")\n",
    "    \n",
    "ej = Ejemplo()\n",
    "ej.publico()\n",
    "ej.__privado()"
   ]
  },
  {
   "cell_type": "code",
   "execution_count": 25,
   "metadata": {},
   "outputs": [
    {
     "name": "stdout",
     "output_type": "stream",
     "text": [
      "Privado\n"
     ]
    }
   ],
   "source": [
    "#Magia\n",
    "ej._Ejemplo__privado()"
   ]
  },
  {
   "cell_type": "code",
   "execution_count": 27,
   "metadata": {},
   "outputs": [
    {
     "name": "stdout",
     "output_type": "stream",
     "text": [
      "Error\n"
     ]
    }
   ],
   "source": [
    "class Fecha():\n",
    "    def __init__(self):\n",
    "        self.__dia = 1\n",
    "        \n",
    "    def getDia(self):\n",
    "        return self.__dia\n",
    "    \n",
    "    def setDia(self, dia):\n",
    "        if dia > 0 and dia < 31:\n",
    "            self.__dia = dia\n",
    "        else:\n",
    "            print(\"Error\")\n",
    "        \n",
    "mi_fecha = Fecha()\n",
    "mi_fecha.setDia(33)"
   ]
  },
  {
   "cell_type": "code",
   "execution_count": 29,
   "metadata": {},
   "outputs": [
    {
     "name": "stdout",
     "output_type": "stream",
     "text": [
      "Error\n"
     ]
    }
   ],
   "source": [
    "class Fecha(object):\n",
    "    def __init__(self):\n",
    "        self.__dia = 1\n",
    "        \n",
    "    def getDia(self):\n",
    "        return self.__dia\n",
    "    \n",
    "    def setDia(self, dia):\n",
    "        if dia > 0 and dia < 31:\n",
    "            self.__dia = dia\n",
    "        else:\n",
    "            print(\"Error\")\n",
    "    \n",
    "    dia = property(getDia, setDia)\n",
    "        \n",
    "mi_fecha = Fecha()\n",
    "mi_fecha.dia = 33"
   ]
  },
  {
   "cell_type": "markdown",
   "metadata": {},
   "source": [
    "Metodos especiales"
   ]
  },
  {
   "cell_type": "code",
   "execution_count": 32,
   "metadata": {},
   "outputs": [
    {
     "data": {
      "text/plain": [
       "'__len__(self)'"
      ]
     },
     "execution_count": 32,
     "metadata": {},
     "output_type": "execute_result"
    }
   ],
   "source": [
    "'''__init__(self, args)'''\n",
    "#Método llamado después de crear el objeto para realizar tareas de inicialización.\n",
    "\n",
    "''''__new__(cls, args)'''\n",
    "# Método exclusivo de las clases de nuevo estilo que se ejecuta antes que __init__ \n",
    "# y que se encarga de construir y devolver el objeto en sí. Es equivalente a los \n",
    "# constructores de C++ o Java. Se trata de un método estático, es decir, que existe \n",
    "# con independencia de las instancias de la clase: es un método de clase, no de \n",
    "# objeto, y por lo tanto el primer parámetro no es self, sino la propia clase: cls.\n",
    "\n",
    "'''__del__(self)'''\n",
    "# Método llamado cuando el objeto va a ser borrado. También llamado destructor, se \n",
    "# utiliza para realizar tareas de limpieza.\n",
    "\n",
    "'''__str__(self)'''\n",
    "# Método llamado para crear una cadena de texto que represente a nuestro objeto. \n",
    "# Se utiliza cuando usamos print para mostrar nuestro objeto o cuando usamos la \n",
    "# función str(obj) para crear una cadena a partir de nuestro objeto.\n",
    "\n",
    "'''__cmp__(self, otro)'''\n",
    "# Método llamado cuando se utilizan los operadores de comparación para comprobar si \n",
    "# nuestro objeto es menor, mayor o igual al objeto pasado como parámetro. Debe \n",
    "# devolver un número negativo si nuestro objeto es menor, cero si son iguales, y \n",
    "# un número positivo si nuestro objeto es mayor. Si este método no está definido y \n",
    "# se intenta comparar el objeto mediante los operadores <, <=, > o >= se lanzará \n",
    "# una excepción. Si se utilizan los operadores == o != para comprobar si dos \n",
    "# objetos son iguales, se comprueba si son el mismo objeto (si tienen el mismo id).\n",
    "\n",
    "'''__len__(self)'''\n",
    "# Método llamado para comprobar la longitud del objeto. Se utiliza, por ejemplo, \n",
    "# cuando se llama a la función len(obj) sobre nuestro objeto. Como es de suponer, \n",
    "# el método debe devolver la longitud del objeto.\n"
   ]
  },
  {
   "cell_type": "code",
   "execution_count": null,
   "metadata": {},
   "outputs": [],
   "source": []
  }
 ],
 "metadata": {
  "kernelspec": {
   "display_name": "Python 3",
   "language": "python",
   "name": "python3"
  },
  "language_info": {
   "codemirror_mode": {
    "name": "ipython",
    "version": 3
   },
   "file_extension": ".py",
   "mimetype": "text/x-python",
   "name": "python",
   "nbconvert_exporter": "python",
   "pygments_lexer": "ipython3",
   "version": "3.7.3"
  }
 },
 "nbformat": 4,
 "nbformat_minor": 2
}
